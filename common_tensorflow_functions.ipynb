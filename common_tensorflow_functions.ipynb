{
  "nbformat": 4,
  "nbformat_minor": 0,
  "metadata": {
    "colab": {
      "provenance": [],
      "authorship_tag": "ABX9TyNFUrGSdnOeEuLR+QAONjyl",
      "include_colab_link": true
    },
    "kernelspec": {
      "name": "python3",
      "display_name": "Python 3"
    },
    "language_info": {
      "name": "python"
    }
  },
  "cells": [
    {
      "cell_type": "markdown",
      "metadata": {
        "id": "view-in-github",
        "colab_type": "text"
      },
      "source": [
        "<a href=\"https://colab.research.google.com/github/ahmadayoubi404/Deep-Learning/blob/main/common_tensorflow_functions.ipynb\" target=\"_parent\"><img src=\"https://colab.research.google.com/assets/colab-badge.svg\" alt=\"Open In Colab\"/></a>"
      ]
    },
    {
      "cell_type": "code",
      "execution_count": 2,
      "metadata": {
        "id": "w6nu4BAMJik1"
      },
      "outputs": [],
      "source": [
        "import tensorflow as tf\n",
        "import numpy as np"
      ]
    },
    {
      "cell_type": "code",
      "source": [
        "# 3d tensor\n",
        "tensor = tf.constant([[[1,2,3],[4,5,6]],[[7,8,9],[10,11,12]]])\n",
        "print(tensor.shape)\n",
        "\n",
        "#adding an extra axis\n",
        "print(tf.expand_dims(tensor, axis=0).shape)\n",
        "print(tf.expand_dims(tensor, axis=1).shape)\n",
        "print(tf.expand_dims(tensor, axis=2).shape)\n",
        "print(tf.expand_dims(tensor, axis=-1).shape)"
      ],
      "metadata": {
        "colab": {
          "base_uri": "https://localhost:8080/"
        },
        "id": "ebQJlUceJ0VT",
        "outputId": "4dfc3ce0-d68b-4542-981b-f00ab6247178"
      },
      "execution_count": 4,
      "outputs": [
        {
          "output_type": "stream",
          "name": "stdout",
          "text": [
            "(2, 2, 3)\n",
            "(1, 2, 2, 3)\n",
            "(2, 1, 2, 3)\n",
            "(2, 2, 1, 3)\n",
            "(2, 2, 3, 1)\n"
          ]
        }
      ]
    },
    {
      "cell_type": "code",
      "source": [
        "# 3d tensor\n",
        "tensor = tf.constant([[[1,2,3],[4,5,6]],[[7,8,9],[10,11,12]]])\n",
        "print(tensor.shape)\n",
        "\n",
        "#expanded\n",
        "tensor = tf.expand_dims(tensor, axis=0)\n",
        "print(tensor.shape)\n",
        "\n",
        "#squeeze\n",
        "print(tf.squeeze(tensor).shape)\n",
        "print(tf.squeeze(tensor, axis = 0).shape) #works\n",
        "print(tf.squeeze(tensor, axis = 1).shape) #doesn't work because the axis should be 1 here it is 2 same for the other axis"
      ],
      "metadata": {
        "colab": {
          "base_uri": "https://localhost:8080/"
        },
        "id": "KmBWShTPUmTU",
        "outputId": "78c5bfde-c7ac-4c2a-d5ab-aed0e1af7e70"
      },
      "execution_count": 13,
      "outputs": [
        {
          "output_type": "stream",
          "name": "stdout",
          "text": [
            "(2, 2, 3)\n",
            "(1, 2, 2, 3)\n",
            "(2, 2, 3)\n",
            "(2, 2, 3)\n"
          ]
        }
      ]
    },
    {
      "cell_type": "code",
      "source": [
        "# 3d tensor\n",
        "tensor = tf.constant([[[1,2,3],[4,5,6]],[[7,8,9],[10,11,12]]])\n",
        "print(tensor)\n",
        "print(tensor.shape)\n",
        "\n",
        "#reshape from 3d tensor to 2d tensor\n",
        "tensor = tf.reshape(tensor, shape=(2,6))\n",
        "print(tensor)\n",
        "print(tensor.shape)\n",
        "\n",
        "#reshape from 2d tensor to 1d tensor\n",
        "tensor = tf.reshape(tensor, shape=(12))\n",
        "print(tensor)\n",
        "print(tensor.shape)"
      ],
      "metadata": {
        "colab": {
          "base_uri": "https://localhost:8080/"
        },
        "id": "dFz12VviX1F1",
        "outputId": "6076f137-7e8e-431e-af46-fea7d158bfc6"
      },
      "execution_count": 31,
      "outputs": [
        {
          "output_type": "stream",
          "name": "stdout",
          "text": [
            "tf.Tensor(\n",
            "[[[ 1  2  3]\n",
            "  [ 4  5  6]]\n",
            "\n",
            " [[ 7  8  9]\n",
            "  [10 11 12]]], shape=(2, 2, 3), dtype=int32)\n",
            "(2, 2, 3)\n",
            "tf.Tensor(\n",
            "[[ 1  2  3  4  5  6]\n",
            " [ 7  8  9 10 11 12]], shape=(2, 6), dtype=int32)\n",
            "(2, 6)\n",
            "tf.Tensor([ 1  2  3  4  5  6  7  8  9 10 11 12], shape=(12,), dtype=int32)\n",
            "(12,)\n"
          ]
        }
      ]
    },
    {
      "cell_type": "code",
      "source": [
        "# 3d tensor\n",
        "t1 = tf.constant([[1,2,3],[4,5,6]])\n",
        "t2 = tf.constant([[7,8,9],[10,11,12]])\n",
        "print(t1.shape)\n",
        "print(t2.shape)\n",
        "\n",
        "#concat\n",
        "print(tf.concat([t1,t2], axis=0))\n",
        "print(tf.concat([t1,t2], axis=1))\n",
        "\n",
        "#stack\n",
        "print(tf.stack([t1,t2], axis=0))\n",
        "print(tf.stack([t1,t2], axis=1))\n",
        "print(tf.stack([t1,t2], axis=2))\n",
        "\n"
      ],
      "metadata": {
        "colab": {
          "base_uri": "https://localhost:8080/"
        },
        "id": "3ap5Qi9SZv5I",
        "outputId": "0cafde24-247b-4be3-9042-16b29f39cf9b"
      },
      "execution_count": 35,
      "outputs": [
        {
          "output_type": "stream",
          "name": "stdout",
          "text": [
            "(2, 3)\n",
            "(2, 3)\n",
            "tf.Tensor(\n",
            "[[ 1  2  3]\n",
            " [ 4  5  6]\n",
            " [ 7  8  9]\n",
            " [10 11 12]], shape=(4, 3), dtype=int32)\n",
            "tf.Tensor(\n",
            "[[ 1  2  3  7  8  9]\n",
            " [ 4  5  6 10 11 12]], shape=(2, 6), dtype=int32)\n",
            "tf.Tensor(\n",
            "[[[ 1  2  3]\n",
            "  [ 4  5  6]]\n",
            "\n",
            " [[ 7  8  9]\n",
            "  [10 11 12]]], shape=(2, 2, 3), dtype=int32)\n",
            "tf.Tensor(\n",
            "[[[ 1  2  3]\n",
            "  [ 7  8  9]]\n",
            "\n",
            " [[ 4  5  6]\n",
            "  [10 11 12]]], shape=(2, 2, 3), dtype=int32)\n",
            "tf.Tensor(\n",
            "[[[ 1  7]\n",
            "  [ 2  8]\n",
            "  [ 3  9]]\n",
            "\n",
            " [[ 4 10]\n",
            "  [ 5 11]\n",
            "  [ 6 12]]], shape=(2, 3, 2), dtype=int32)\n"
          ]
        }
      ]
    },
    {
      "cell_type": "code",
      "source": [
        "# 3d tensor\n",
        "tensor = tf.constant([[[1,2,3],[4,5,6]],[[7,8,9],[10,11,12]]])\n",
        "print(tensor)\n",
        "print(tensor.shape)\n",
        "\n",
        "#padding\n",
        "print(tf.pad(tensor, paddings=[[1,1],[1,1],[1,1]]))\n",
        "print(tf.pad(tensor, paddings=[[1,1],[2,2],[3,3]]))\n",
        "print(tf.pad(tensor, paddings=[[1,2],[3,4],[5,6]]))"
      ],
      "metadata": {
        "colab": {
          "base_uri": "https://localhost:8080/"
        },
        "id": "sdGdqqSnc9lw",
        "outputId": "3c8c246f-a6bf-4ddb-a98b-5a5a88121030"
      },
      "execution_count": 40,
      "outputs": [
        {
          "output_type": "stream",
          "name": "stdout",
          "text": [
            "tf.Tensor(\n",
            "[[[ 1  2  3]\n",
            "  [ 4  5  6]]\n",
            "\n",
            " [[ 7  8  9]\n",
            "  [10 11 12]]], shape=(2, 2, 3), dtype=int32)\n",
            "(2, 2, 3)\n",
            "tf.Tensor(\n",
            "[[[ 0  0  0  0  0]\n",
            "  [ 0  0  0  0  0]\n",
            "  [ 0  0  0  0  0]\n",
            "  [ 0  0  0  0  0]]\n",
            "\n",
            " [[ 0  0  0  0  0]\n",
            "  [ 0  1  2  3  0]\n",
            "  [ 0  4  5  6  0]\n",
            "  [ 0  0  0  0  0]]\n",
            "\n",
            " [[ 0  0  0  0  0]\n",
            "  [ 0  7  8  9  0]\n",
            "  [ 0 10 11 12  0]\n",
            "  [ 0  0  0  0  0]]\n",
            "\n",
            " [[ 0  0  0  0  0]\n",
            "  [ 0  0  0  0  0]\n",
            "  [ 0  0  0  0  0]\n",
            "  [ 0  0  0  0  0]]], shape=(4, 4, 5), dtype=int32)\n",
            "tf.Tensor(\n",
            "[[[ 0  0  0  0  0  0  0  0  0]\n",
            "  [ 0  0  0  0  0  0  0  0  0]\n",
            "  [ 0  0  0  0  0  0  0  0  0]\n",
            "  [ 0  0  0  0  0  0  0  0  0]\n",
            "  [ 0  0  0  0  0  0  0  0  0]\n",
            "  [ 0  0  0  0  0  0  0  0  0]]\n",
            "\n",
            " [[ 0  0  0  0  0  0  0  0  0]\n",
            "  [ 0  0  0  0  0  0  0  0  0]\n",
            "  [ 0  0  0  1  2  3  0  0  0]\n",
            "  [ 0  0  0  4  5  6  0  0  0]\n",
            "  [ 0  0  0  0  0  0  0  0  0]\n",
            "  [ 0  0  0  0  0  0  0  0  0]]\n",
            "\n",
            " [[ 0  0  0  0  0  0  0  0  0]\n",
            "  [ 0  0  0  0  0  0  0  0  0]\n",
            "  [ 0  0  0  7  8  9  0  0  0]\n",
            "  [ 0  0  0 10 11 12  0  0  0]\n",
            "  [ 0  0  0  0  0  0  0  0  0]\n",
            "  [ 0  0  0  0  0  0  0  0  0]]\n",
            "\n",
            " [[ 0  0  0  0  0  0  0  0  0]\n",
            "  [ 0  0  0  0  0  0  0  0  0]\n",
            "  [ 0  0  0  0  0  0  0  0  0]\n",
            "  [ 0  0  0  0  0  0  0  0  0]\n",
            "  [ 0  0  0  0  0  0  0  0  0]\n",
            "  [ 0  0  0  0  0  0  0  0  0]]], shape=(4, 6, 9), dtype=int32)\n",
            "tf.Tensor(\n",
            "[[[ 0  0  0  0  0  0  0  0  0  0  0  0  0  0]\n",
            "  [ 0  0  0  0  0  0  0  0  0  0  0  0  0  0]\n",
            "  [ 0  0  0  0  0  0  0  0  0  0  0  0  0  0]\n",
            "  [ 0  0  0  0  0  0  0  0  0  0  0  0  0  0]\n",
            "  [ 0  0  0  0  0  0  0  0  0  0  0  0  0  0]\n",
            "  [ 0  0  0  0  0  0  0  0  0  0  0  0  0  0]\n",
            "  [ 0  0  0  0  0  0  0  0  0  0  0  0  0  0]\n",
            "  [ 0  0  0  0  0  0  0  0  0  0  0  0  0  0]\n",
            "  [ 0  0  0  0  0  0  0  0  0  0  0  0  0  0]]\n",
            "\n",
            " [[ 0  0  0  0  0  0  0  0  0  0  0  0  0  0]\n",
            "  [ 0  0  0  0  0  0  0  0  0  0  0  0  0  0]\n",
            "  [ 0  0  0  0  0  0  0  0  0  0  0  0  0  0]\n",
            "  [ 0  0  0  0  0  1  2  3  0  0  0  0  0  0]\n",
            "  [ 0  0  0  0  0  4  5  6  0  0  0  0  0  0]\n",
            "  [ 0  0  0  0  0  0  0  0  0  0  0  0  0  0]\n",
            "  [ 0  0  0  0  0  0  0  0  0  0  0  0  0  0]\n",
            "  [ 0  0  0  0  0  0  0  0  0  0  0  0  0  0]\n",
            "  [ 0  0  0  0  0  0  0  0  0  0  0  0  0  0]]\n",
            "\n",
            " [[ 0  0  0  0  0  0  0  0  0  0  0  0  0  0]\n",
            "  [ 0  0  0  0  0  0  0  0  0  0  0  0  0  0]\n",
            "  [ 0  0  0  0  0  0  0  0  0  0  0  0  0  0]\n",
            "  [ 0  0  0  0  0  7  8  9  0  0  0  0  0  0]\n",
            "  [ 0  0  0  0  0 10 11 12  0  0  0  0  0  0]\n",
            "  [ 0  0  0  0  0  0  0  0  0  0  0  0  0  0]\n",
            "  [ 0  0  0  0  0  0  0  0  0  0  0  0  0  0]\n",
            "  [ 0  0  0  0  0  0  0  0  0  0  0  0  0  0]\n",
            "  [ 0  0  0  0  0  0  0  0  0  0  0  0  0  0]]\n",
            "\n",
            " [[ 0  0  0  0  0  0  0  0  0  0  0  0  0  0]\n",
            "  [ 0  0  0  0  0  0  0  0  0  0  0  0  0  0]\n",
            "  [ 0  0  0  0  0  0  0  0  0  0  0  0  0  0]\n",
            "  [ 0  0  0  0  0  0  0  0  0  0  0  0  0  0]\n",
            "  [ 0  0  0  0  0  0  0  0  0  0  0  0  0  0]\n",
            "  [ 0  0  0  0  0  0  0  0  0  0  0  0  0  0]\n",
            "  [ 0  0  0  0  0  0  0  0  0  0  0  0  0  0]\n",
            "  [ 0  0  0  0  0  0  0  0  0  0  0  0  0  0]\n",
            "  [ 0  0  0  0  0  0  0  0  0  0  0  0  0  0]]\n",
            "\n",
            " [[ 0  0  0  0  0  0  0  0  0  0  0  0  0  0]\n",
            "  [ 0  0  0  0  0  0  0  0  0  0  0  0  0  0]\n",
            "  [ 0  0  0  0  0  0  0  0  0  0  0  0  0  0]\n",
            "  [ 0  0  0  0  0  0  0  0  0  0  0  0  0  0]\n",
            "  [ 0  0  0  0  0  0  0  0  0  0  0  0  0  0]\n",
            "  [ 0  0  0  0  0  0  0  0  0  0  0  0  0  0]\n",
            "  [ 0  0  0  0  0  0  0  0  0  0  0  0  0  0]\n",
            "  [ 0  0  0  0  0  0  0  0  0  0  0  0  0  0]\n",
            "  [ 0  0  0  0  0  0  0  0  0  0  0  0  0  0]]], shape=(5, 9, 14), dtype=int32)\n"
          ]
        }
      ]
    },
    {
      "cell_type": "code",
      "source": [
        "params = tf.constant(['p0', 'p1', 'p2', 'p3', 'p4', 'p5'])\n",
        "print(params[1:4])\n",
        "\n",
        "print(tf.gather(params, indices=[1, 2, 3]))\n",
        "\n",
        "print(tf.gather(params, tf.range(1, 4)))"
      ],
      "metadata": {
        "colab": {
          "base_uri": "https://localhost:8080/"
        },
        "id": "polB-v58g_JX",
        "outputId": "78daf6a4-a144-4c8a-9e07-7c4a45ed2250"
      },
      "execution_count": 46,
      "outputs": [
        {
          "output_type": "stream",
          "name": "stdout",
          "text": [
            "tf.Tensor([b'p1' b'p2' b'p3'], shape=(3,), dtype=string)\n",
            "tf.Tensor([b'p1' b'p2' b'p3'], shape=(3,), dtype=string)\n",
            "tf.Tensor([b'p1' b'p2' b'p3'], shape=(3,), dtype=string)\n"
          ]
        }
      ]
    },
    {
      "cell_type": "code",
      "source": [
        "tensor2d = tf.constant([[1,2,3],[4,5,6],[7,8,9]])\n",
        "print(tensor2d)\n",
        "print(tensor2d.shape)\n",
        "\n",
        "#ragged tensors\n",
        "raggedtensor = tf.ragged.constant([[1,2,3],[4,5],[7,8,9,10]])\n",
        "print(raggedtensor)\n",
        "print(raggedtensor.shape)\n",
        "print(raggedtensor.to_tensor())\n",
        "\n",
        "#boolean mask\n",
        "print(tf.boolean_mask(tensor2d, mask=[True, False, True]))\n",
        "print(tf.boolean_mask(tensor2d, mask=[[True, False, True],[True, False, True],[True, False, True]]))\n"
      ],
      "metadata": {
        "colab": {
          "base_uri": "https://localhost:8080/"
        },
        "id": "0i4QBmclkvsR",
        "outputId": "6850a4fa-2f6f-413a-8f4b-4a98e1cb428b"
      },
      "execution_count": 53,
      "outputs": [
        {
          "output_type": "stream",
          "name": "stdout",
          "text": [
            "tf.Tensor(\n",
            "[[1 2 3]\n",
            " [4 5 6]\n",
            " [7 8 9]], shape=(3, 3), dtype=int32)\n",
            "(3, 3)\n",
            "<tf.RaggedTensor [[1, 2, 3], [4, 5], [7, 8, 9, 10]]>\n",
            "(3, None)\n",
            "tf.Tensor(\n",
            "[[ 1  2  3  0]\n",
            " [ 4  5  0  0]\n",
            " [ 7  8  9 10]], shape=(3, 4), dtype=int32)\n",
            "tf.Tensor(\n",
            "[[1 2 3]\n",
            " [7 8 9]], shape=(2, 3), dtype=int32)\n",
            "tf.Tensor([1 3 4 6 7 9], shape=(6,), dtype=int32)\n"
          ]
        }
      ]
    },
    {
      "cell_type": "code",
      "source": [
        "#sparse tensors\n",
        "sparse_tensor = tf.sparse.SparseTensor(indices=[[0, 0], [1, 2]],\n",
        "                                       values=[10, 20],\n",
        "                                       dense_shape=[3, 4])\n",
        "print(sparse_tensor)\n",
        "\n",
        "tf.sparse.to_dense(sparse_tensor)"
      ],
      "metadata": {
        "colab": {
          "base_uri": "https://localhost:8080/"
        },
        "id": "CzYXRmRyv-hJ",
        "outputId": "38a18b67-a3f8-4b58-cf17-71e56f638ae3"
      },
      "execution_count": 56,
      "outputs": [
        {
          "output_type": "stream",
          "name": "stdout",
          "text": [
            "SparseTensor(indices=tf.Tensor(\n",
            "[[0 0]\n",
            " [1 2]], shape=(2, 2), dtype=int64), values=tf.Tensor([10 20], shape=(2,), dtype=int32), dense_shape=tf.Tensor([3 4], shape=(2,), dtype=int64))\n"
          ]
        },
        {
          "output_type": "execute_result",
          "data": {
            "text/plain": [
              "<tf.Tensor: shape=(3, 4), dtype=int32, numpy=\n",
              "array([[10,  0,  0,  0],\n",
              "       [ 0,  0, 20,  0],\n",
              "       [ 0,  0,  0,  0]], dtype=int32)>"
            ]
          },
          "metadata": {},
          "execution_count": 56
        }
      ]
    },
    {
      "cell_type": "code",
      "source": [
        "#string tensors\n",
        "string_tensor = tf.constant([\"TensorFlow\", \"Deep Learning\", \"AI\"])\n",
        "print(string_tensor)\n",
        "\n",
        "#join\n",
        "joined_string_tensor = tf.strings.join(string_tensor, separator=\" \")\n",
        "print(joined_string_tensor)\n",
        "\n",
        "#split\n",
        "print(tf.strings.split(joined_string_tensor, sep=\" \"))"
      ],
      "metadata": {
        "colab": {
          "base_uri": "https://localhost:8080/"
        },
        "id": "wYd1Nwa5xnnt",
        "outputId": "e0af9554-803c-40d7-c54a-535ae81718d7"
      },
      "execution_count": 59,
      "outputs": [
        {
          "output_type": "stream",
          "name": "stdout",
          "text": [
            "tf.Tensor([b'TensorFlow' b'Deep Learning' b'AI'], shape=(3,), dtype=string)\n",
            "tf.Tensor(b'TensorFlow Deep Learning AI', shape=(), dtype=string)\n",
            "tf.Tensor([b'TensorFlow' b'Deep' b'Learning' b'AI'], shape=(4,), dtype=string)\n"
          ]
        }
      ]
    },
    {
      "cell_type": "code",
      "source": [
        "#variables\n",
        "x = tf.constant([1, 2])\n",
        "variable = tf.Variable(x)\n",
        "print(variable)\n",
        "\n",
        "variable.assign([0, 1])\n",
        "print(variable)\n",
        "\n",
        "variable.assign_add([1, 1])\n",
        "print(variable)\n",
        "\n",
        "variable.assign_sub([2, 0])\n",
        "print(variable)\n",
        "\n"
      ],
      "metadata": {
        "colab": {
          "base_uri": "https://localhost:8080/"
        },
        "id": "QWrZ3XOQyeV4",
        "outputId": "726104b1-7957-4d5c-8ff2-404d8bc54a01"
      },
      "execution_count": 63,
      "outputs": [
        {
          "output_type": "stream",
          "name": "stdout",
          "text": [
            "<tf.Variable 'Variable:0' shape=(2,) dtype=int32, numpy=array([1, 2], dtype=int32)>\n",
            "<tf.Variable 'Variable:0' shape=(2,) dtype=int32, numpy=array([0, 1], dtype=int32)>\n",
            "<tf.Variable 'Variable:0' shape=(2,) dtype=int32, numpy=array([1, 2], dtype=int32)>\n",
            "<tf.Variable 'Variable:0' shape=(2,) dtype=int32, numpy=array([-1,  2], dtype=int32)>\n"
          ]
        }
      ]
    },
    {
      "cell_type": "code",
      "source": [
        "with tf.device('CPU:0'):\n",
        "  x1 = tf.constant([1, 2, 3])\n",
        "  x2 = tf.constant([4, 5, 6])\n",
        "with tf.device('GPU:0'):\n",
        "  x3 = x1 + x2\n",
        "\n",
        "print(x1, x1.device)\n",
        "print(x2, x2.device)\n",
        "print(x3, x3.device)"
      ],
      "metadata": {
        "colab": {
          "base_uri": "https://localhost:8080/"
        },
        "id": "CK9UfcMDzps5",
        "outputId": "76f1d399-8db1-40e4-d579-e01e439081bf"
      },
      "execution_count": 69,
      "outputs": [
        {
          "output_type": "stream",
          "name": "stdout",
          "text": [
            "tf.Tensor([1 2 3], shape=(3,), dtype=int32) /job:localhost/replica:0/task:0/device:CPU:0\n",
            "tf.Tensor([4 5 6], shape=(3,), dtype=int32) /job:localhost/replica:0/task:0/device:CPU:0\n",
            "tf.Tensor([5 7 9], shape=(3,), dtype=int32) /job:localhost/replica:0/task:0/device:CPU:0\n"
          ]
        }
      ]
    }
  ]
}