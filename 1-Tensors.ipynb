{
  "nbformat": 4,
  "nbformat_minor": 0,
  "metadata": {
    "colab": {
      "provenance": [],
      "authorship_tag": "ABX9TyN9iEy91VkvIN+llwT8e1EJ",
      "include_colab_link": true
    },
    "kernelspec": {
      "name": "python3",
      "display_name": "Python 3"
    },
    "language_info": {
      "name": "python"
    }
  },
  "cells": [
    {
      "cell_type": "markdown",
      "metadata": {
        "id": "view-in-github",
        "colab_type": "text"
      },
      "source": [
        "<a href=\"https://colab.research.google.com/github/ahmadayoubi404/Deep-Learning/blob/main/Tensors.ipynb\" target=\"_parent\"><img src=\"https://colab.research.google.com/assets/colab-badge.svg\" alt=\"Open In Colab\"/></a>"
      ]
    },
    {
      "cell_type": "code",
      "execution_count": null,
      "metadata": {
        "colab": {
          "base_uri": "https://localhost:8080/"
        },
        "id": "HyWRdhWH3MMi",
        "outputId": "dee52d38-4926-4913-8bb3-1ee9428963a1"
      },
      "outputs": [
        {
          "output_type": "stream",
          "name": "stdout",
          "text": [
            "tf.Tensor(4, shape=(), dtype=int32)\n"
          ]
        }
      ],
      "source": [
        "import tensorflow as tf\n",
        "\n",
        "tensor_0d = tf.constant(4)\n",
        "print(tensor_0d)"
      ]
    },
    {
      "cell_type": "code",
      "source": [
        "tensor_1d = tf.constant([2, 0, -3])\n",
        "print(tensor_1d)"
      ],
      "metadata": {
        "colab": {
          "base_uri": "https://localhost:8080/"
        },
        "id": "m-tOD7wG4b4q",
        "outputId": "9edb110d-06f4-4057-c3c8-1bf9afa18fc7"
      },
      "execution_count": null,
      "outputs": [
        {
          "output_type": "stream",
          "name": "stdout",
          "text": [
            "tf.Tensor([ 2  0 -3], shape=(3,), dtype=int32)\n"
          ]
        }
      ]
    },
    {
      "cell_type": "code",
      "source": [
        "tensor_2d = tf.constant([[1, 2, 3], [4, 5, 6]])\n",
        "print(tensor_2d)"
      ],
      "metadata": {
        "colab": {
          "base_uri": "https://localhost:8080/"
        },
        "id": "0AU2e3kc4jEC",
        "outputId": "cf3683e3-a983-467d-99c9-af415f33ed48"
      },
      "execution_count": null,
      "outputs": [
        {
          "output_type": "stream",
          "name": "stdout",
          "text": [
            "tf.Tensor(\n",
            "[[1 2 3]\n",
            " [4 5 6]], shape=(2, 3), dtype=int32)\n"
          ]
        }
      ]
    },
    {
      "cell_type": "code",
      "source": [
        "tensor_3d = tf.constant([[[1, 2, 3], [4, 5, 6], [7, 8, 9]], [[10, 11, 12], [13, 14, 15], [16, 17, 18]]])\n",
        "print(tensor_3d)\n",
        "print(\"shape = \" + str(tensor_3d.shape))\n",
        "print(\"dimension = \" + str(tensor_3d.ndim))"
      ],
      "metadata": {
        "colab": {
          "base_uri": "https://localhost:8080/"
        },
        "id": "sVjs8XQt5Bub",
        "outputId": "8d09b86f-bcef-46cf-c53b-dca6bc6a2081"
      },
      "execution_count": null,
      "outputs": [
        {
          "output_type": "stream",
          "name": "stdout",
          "text": [
            "tf.Tensor(\n",
            "[[[ 1  2  3]\n",
            "  [ 4  5  6]\n",
            "  [ 7  8  9]]\n",
            "\n",
            " [[10 11 12]\n",
            "  [13 14 15]\n",
            "  [16 17 18]]], shape=(2, 3, 3), dtype=int32)\n",
            "shape = (2, 3, 3)\n",
            "dimension = 3\n"
          ]
        }
      ]
    },
    {
      "cell_type": "code",
      "source": [
        "tensor_4d = tf.constant([[[[1, 2, 3], [4, 5, 6], [7, 8, 9]], [[10, 11, 12], [13, 14, 15], [16, 17, 18]]], [[[1, 2, 3], [4, 5, 6], [7, 8, 9]], [[10, 11, 12], [13, 14, 15], [16, 17, 18]]]])\n",
        "print(tensor_4d)\n",
        "print(\"shape = \" + str(tensor_4d.shape))\n",
        "print(\"dimension = \" + str(tensor_4d.ndim))"
      ],
      "metadata": {
        "colab": {
          "base_uri": "https://localhost:8080/"
        },
        "id": "AqATb5QL8vEs",
        "outputId": "1b05375d-c5e6-48fd-f82c-33213aa1be7e"
      },
      "execution_count": null,
      "outputs": [
        {
          "output_type": "stream",
          "name": "stdout",
          "text": [
            "tf.Tensor(\n",
            "[[[[ 1  2  3]\n",
            "   [ 4  5  6]\n",
            "   [ 7  8  9]]\n",
            "\n",
            "  [[10 11 12]\n",
            "   [13 14 15]\n",
            "   [16 17 18]]]\n",
            "\n",
            "\n",
            " [[[ 1  2  3]\n",
            "   [ 4  5  6]\n",
            "   [ 7  8  9]]\n",
            "\n",
            "  [[10 11 12]\n",
            "   [13 14 15]\n",
            "   [16 17 18]]]], shape=(2, 2, 3, 3), dtype=int32)\n",
            "shape = (2, 2, 3, 3)\n",
            "dimension = 4\n"
          ]
        }
      ]
    },
    {
      "cell_type": "code",
      "source": [
        "tensor_1d = tf.constant([2, 0, -3], dtype = tf.float16)\n",
        "print(tensor_1d)\n",
        "\n",
        "casted_tensor = tf.cast(tensor_1d, dtype = tf.int16) #if we casted as dtype = tf.bool then everything would be True but 0 would be False\n",
        "print(casted_tensor)"
      ],
      "metadata": {
        "colab": {
          "base_uri": "https://localhost:8080/"
        },
        "id": "z_kMTjhh9A8U",
        "outputId": "bfd4e93c-72ab-4f41-dfb0-b1e27a499eb8"
      },
      "execution_count": null,
      "outputs": [
        {
          "output_type": "stream",
          "name": "stdout",
          "text": [
            "tf.Tensor([ 2.  0. -3.], shape=(3,), dtype=float16)\n",
            "tf.Tensor([ 2  0 -3], shape=(3,), dtype=int16)\n"
          ]
        }
      ]
    },
    {
      "cell_type": "code",
      "source": [
        "#numpy array to tensor\n",
        "import numpy as np\n",
        "np_array = np.array([1, 2, 3])\n",
        "print(np_array)\n",
        "tensor = tf.convert_to_tensor(np_array)\n",
        "print(tensor)"
      ],
      "metadata": {
        "colab": {
          "base_uri": "https://localhost:8080/"
        },
        "id": "lb0NpRgnA1G0",
        "outputId": "b51f8831-44b1-4d79-c32a-acb4d4165da2"
      },
      "execution_count": null,
      "outputs": [
        {
          "output_type": "stream",
          "name": "stdout",
          "text": [
            "[1 2 3]\n",
            "tf.Tensor([1 2 3], shape=(3,), dtype=int64)\n"
          ]
        }
      ]
    },
    {
      "cell_type": "code",
      "source": [
        "#identity matrix\n",
        "eye_tensor = tf.eye(num_rows=3, num_columns=4, dtype=tf.dtypes.float32, name=None)\n",
        "print(eye_tensor)\n",
        "print(3 * eye_tensor)\n",
        "\n",
        "#making it boolean\n",
        "eye_tensor = tf.eye(num_rows=3, num_columns=None, dtype=tf.dtypes.bool, name=None)\n",
        "print(eye_tensor)\n",
        "\n",
        "#making it 3d\n",
        "eye_tensor = tf.eye(num_rows=3, num_columns=None, batch_shape=[3, ], dtype=tf.dtypes.float32, name=None)\n",
        "print(eye_tensor)\n",
        "\n",
        "#making it 4d\n",
        "eye_tensor = tf.eye(num_rows=3, num_columns=None, batch_shape=[3, 2], dtype=tf.dtypes.float32, name=None)\n",
        "print(eye_tensor)"
      ],
      "metadata": {
        "colab": {
          "base_uri": "https://localhost:8080/"
        },
        "id": "SlXHq5URBtE1",
        "outputId": "d28a5bbb-2564-4fc2-9db1-d906d36dbd71"
      },
      "execution_count": null,
      "outputs": [
        {
          "output_type": "stream",
          "name": "stdout",
          "text": [
            "tf.Tensor(\n",
            "[[1. 0. 0. 0.]\n",
            " [0. 1. 0. 0.]\n",
            " [0. 0. 1. 0.]], shape=(3, 4), dtype=float32)\n",
            "tf.Tensor(\n",
            "[[3. 0. 0. 0.]\n",
            " [0. 3. 0. 0.]\n",
            " [0. 0. 3. 0.]], shape=(3, 4), dtype=float32)\n",
            "tf.Tensor(\n",
            "[[ True False False]\n",
            " [False  True False]\n",
            " [False False  True]], shape=(3, 3), dtype=bool)\n",
            "tf.Tensor(\n",
            "[[[1. 0. 0.]\n",
            "  [0. 1. 0.]\n",
            "  [0. 0. 1.]]\n",
            "\n",
            " [[1. 0. 0.]\n",
            "  [0. 1. 0.]\n",
            "  [0. 0. 1.]]\n",
            "\n",
            " [[1. 0. 0.]\n",
            "  [0. 1. 0.]\n",
            "  [0. 0. 1.]]], shape=(3, 3, 3), dtype=float32)\n",
            "tf.Tensor(\n",
            "[[[[1. 0. 0.]\n",
            "   [0. 1. 0.]\n",
            "   [0. 0. 1.]]\n",
            "\n",
            "  [[1. 0. 0.]\n",
            "   [0. 1. 0.]\n",
            "   [0. 0. 1.]]]\n",
            "\n",
            "\n",
            " [[[1. 0. 0.]\n",
            "   [0. 1. 0.]\n",
            "   [0. 0. 1.]]\n",
            "\n",
            "  [[1. 0. 0.]\n",
            "   [0. 1. 0.]\n",
            "   [0. 0. 1.]]]\n",
            "\n",
            "\n",
            " [[[1. 0. 0.]\n",
            "   [0. 1. 0.]\n",
            "   [0. 0. 1.]]\n",
            "\n",
            "  [[1. 0. 0.]\n",
            "   [0. 1. 0.]\n",
            "   [0. 0. 1.]]]], shape=(3, 2, 3, 3), dtype=float32)\n"
          ]
        }
      ]
    },
    {
      "cell_type": "code",
      "source": [
        "#filling\n",
        "tensor = tf.fill([3, 4], 5, name = None) #2d tensor\n",
        "print(tensor)"
      ],
      "metadata": {
        "colab": {
          "base_uri": "https://localhost:8080/"
        },
        "id": "-AFbp_aoDE5g",
        "outputId": "062422b2-63ff-4319-e3d1-0329e10c0f91"
      },
      "execution_count": null,
      "outputs": [
        {
          "output_type": "stream",
          "name": "stdout",
          "text": [
            "tf.Tensor(\n",
            "[[5 5 5 5]\n",
            " [5 5 5 5]\n",
            " [5 5 5 5]], shape=(3, 4), dtype=int32)\n"
          ]
        }
      ]
    },
    {
      "cell_type": "code",
      "source": [
        "tensor = tf.ones([3, 4, 5]) #3d tensor\n",
        "print(tensor)\n",
        "\n",
        "tensor = tf.zeros([3, 4, 5]) #3d tensor\n",
        "print(tensor)"
      ],
      "metadata": {
        "colab": {
          "base_uri": "https://localhost:8080/"
        },
        "id": "G24duLSNDZxh",
        "outputId": "01ceb726-2467-4da0-83f6-51244df25eca"
      },
      "execution_count": null,
      "outputs": [
        {
          "output_type": "stream",
          "name": "stdout",
          "text": [
            "tf.Tensor(\n",
            "[[[1. 1. 1. 1. 1.]\n",
            "  [1. 1. 1. 1. 1.]\n",
            "  [1. 1. 1. 1. 1.]\n",
            "  [1. 1. 1. 1. 1.]]\n",
            "\n",
            " [[1. 1. 1. 1. 1.]\n",
            "  [1. 1. 1. 1. 1.]\n",
            "  [1. 1. 1. 1. 1.]\n",
            "  [1. 1. 1. 1. 1.]]\n",
            "\n",
            " [[1. 1. 1. 1. 1.]\n",
            "  [1. 1. 1. 1. 1.]\n",
            "  [1. 1. 1. 1. 1.]\n",
            "  [1. 1. 1. 1. 1.]]], shape=(3, 4, 5), dtype=float32)\n",
            "tf.Tensor(\n",
            "[[[0. 0. 0. 0. 0.]\n",
            "  [0. 0. 0. 0. 0.]\n",
            "  [0. 0. 0. 0. 0.]\n",
            "  [0. 0. 0. 0. 0.]]\n",
            "\n",
            " [[0. 0. 0. 0. 0.]\n",
            "  [0. 0. 0. 0. 0.]\n",
            "  [0. 0. 0. 0. 0.]\n",
            "  [0. 0. 0. 0. 0.]]\n",
            "\n",
            " [[0. 0. 0. 0. 0.]\n",
            "  [0. 0. 0. 0. 0.]\n",
            "  [0. 0. 0. 0. 0.]\n",
            "  [0. 0. 0. 0. 0.]]], shape=(3, 4, 5), dtype=float32)\n"
          ]
        }
      ]
    },
    {
      "cell_type": "code",
      "source": [
        "tensor = tf.ones_like([3, 4, 5]) #it prints the same shape but with ones\n",
        "print(tensor)\n",
        "\n",
        "tensor = tf.ones_like([[1, 2, 3], [4, 5, 6]])\n",
        "print(tensor)\n",
        "\n",
        "tensor = tf.zeros_like([[1, 2, 3], [4, 5, 6]]) #it prints the same shape but with zeros\n",
        "print(tensor)"
      ],
      "metadata": {
        "colab": {
          "base_uri": "https://localhost:8080/"
        },
        "id": "eQflCe3CDphx",
        "outputId": "c681a891-7d37-4c4b-bc0b-ae4758ce69cf"
      },
      "execution_count": null,
      "outputs": [
        {
          "output_type": "stream",
          "name": "stdout",
          "text": [
            "tf.Tensor([1 1 1], shape=(3,), dtype=int32)\n",
            "tf.Tensor(\n",
            "[[1 1 1]\n",
            " [1 1 1]], shape=(2, 3), dtype=int32)\n",
            "tf.Tensor(\n",
            "[[0 0 0]\n",
            " [0 0 0]], shape=(2, 3), dtype=int32)\n"
          ]
        }
      ]
    },
    {
      "cell_type": "code",
      "source": [
        "#nb of all scalers/elements\n",
        "tensor = tf.constant([[1, 2, 3], [4, 5, 6]])\n",
        "print(tensor)\n",
        "print(tf.size(tensor))\n",
        "\n",
        "tensor_3d = tf.constant([[[1, 2, 3], [4, 5, 6], [7, 8, 9]], [[10, 11, 12], [13, 14, 15], [16, 17, 18]]])\n",
        "print(tensor_3d)\n",
        "print(tf.size(tensor_3d, out_type=tf.float32))"
      ],
      "metadata": {
        "colab": {
          "base_uri": "https://localhost:8080/"
        },
        "id": "Rffd6wu0Ekhk",
        "outputId": "7e6a1335-a2b9-4f61-eb44-bf3f129b7ee8"
      },
      "execution_count": null,
      "outputs": [
        {
          "output_type": "stream",
          "name": "stdout",
          "text": [
            "tf.Tensor(\n",
            "[[1 2 3]\n",
            " [4 5 6]], shape=(2, 3), dtype=int32)\n",
            "tf.Tensor(6, shape=(), dtype=int32)\n",
            "tf.Tensor(\n",
            "[[[ 1  2  3]\n",
            "  [ 4  5  6]\n",
            "  [ 7  8  9]]\n",
            "\n",
            " [[10 11 12]\n",
            "  [13 14 15]\n",
            "  [16 17 18]]], shape=(2, 3, 3), dtype=int32)\n",
            "tf.Tensor(18.0, shape=(), dtype=float32)\n"
          ]
        }
      ]
    },
    {
      "cell_type": "code",
      "source": [
        "#random normal distribution tensors\n",
        "tensor = tf.random.normal(shape = [3, 2], mean = 0.0, stddev = 1.0, dtype = tf.dtypes.float32)\n",
        "print(tensor) #the values are around the mean and the stddev are how far the values are from the mean\n",
        "\n",
        "#random uniform distribution tensors\n",
        "tensor = tf.random.uniform(shape = [3, 2], minval = 0, maxval = 2, dtype = tf.dtypes.float32)\n",
        "print(tensor) #the values are around the mean and the stddev are how far the values are from the mean"
      ],
      "metadata": {
        "colab": {
          "base_uri": "https://localhost:8080/"
        },
        "id": "9etUk4mXGMog",
        "outputId": "c3e39c27-fbab-4846-cf10-e4a36cc4f094"
      },
      "execution_count": null,
      "outputs": [
        {
          "output_type": "stream",
          "name": "stdout",
          "text": [
            "tf.Tensor(\n",
            "[[-0.34603527  1.4702682 ]\n",
            " [-0.77765864 -1.9972074 ]\n",
            " [ 0.79909325 -0.3913589 ]], shape=(3, 2), dtype=float32)\n",
            "tf.Tensor(\n",
            "[[0.20717788 1.4387419 ]\n",
            " [0.1295619  0.11545181]\n",
            " [0.18194604 0.21106625]], shape=(3, 2), dtype=float32)\n"
          ]
        }
      ]
    },
    {
      "cell_type": "code",
      "source": [
        "#indexing\n",
        "tensor = tf.constant([3, 5, 2, 4, 5, 66, 7])\n",
        "print(tensor)\n",
        "print(tensor[4])\n",
        "print(tensor[0:4])\n",
        "print(tensor[2:6])\n",
        "print(tensor[2:6:2]) #step is 2 here but by default it is 1\n",
        "print(tensor[2:]) #from 2 till the end\n",
        "print(tensor[2:-1]) #from 2 till the end-1\n",
        "print(tensor[:]) #all elements\n",
        "\n",
        "tensor2 = tf.constant([[1, 2, 3], [4, 5, 6], [7, 8, 9]])\n",
        "print(tensor2)\n",
        "print(tensor2[0:3, 0:2]) #first 3 rows and first 2 columns\n",
        "print(tensor2[0:3, :]) #first 3 rows and all columns\n",
        "print(tensor2[1, :]) #row 2 and all columns\n",
        "print(tensor2[1, 1]) #row 2 and column 2\n",
        "\n",
        "tensor3 = tf.constant([[[1, 2, 3], [4, 5, 6], [7, 8, 9]], [[10, 11, 12], [13, 14, 15], [16, 17, 18]]])\n",
        "print(tensor3[0,:,:])\n",
        "print(tensor3[:,0:2,0:2]) #draw the 3d matrix to visualize it"
      ],
      "metadata": {
        "colab": {
          "base_uri": "https://localhost:8080/"
        },
        "id": "H6RWKsLuG-oh",
        "outputId": "484fcf7a-0f27-4b68-cee6-a6ab3a14ced5"
      },
      "execution_count": null,
      "outputs": [
        {
          "output_type": "stream",
          "name": "stdout",
          "text": [
            "tf.Tensor([ 3  5  2  4  5 66  7], shape=(7,), dtype=int32)\n",
            "tf.Tensor(5, shape=(), dtype=int32)\n",
            "tf.Tensor([3 5 2 4], shape=(4,), dtype=int32)\n",
            "tf.Tensor([ 2  4  5 66], shape=(4,), dtype=int32)\n",
            "tf.Tensor([2 5], shape=(2,), dtype=int32)\n",
            "tf.Tensor([ 2  4  5 66  7], shape=(5,), dtype=int32)\n",
            "tf.Tensor([ 2  4  5 66], shape=(4,), dtype=int32)\n",
            "tf.Tensor([ 3  5  2  4  5 66  7], shape=(7,), dtype=int32)\n",
            "tf.Tensor(\n",
            "[[1 2 3]\n",
            " [4 5 6]\n",
            " [7 8 9]], shape=(3, 3), dtype=int32)\n",
            "tf.Tensor(\n",
            "[[1 2]\n",
            " [4 5]\n",
            " [7 8]], shape=(3, 2), dtype=int32)\n",
            "tf.Tensor(\n",
            "[[1 2 3]\n",
            " [4 5 6]\n",
            " [7 8 9]], shape=(3, 3), dtype=int32)\n",
            "tf.Tensor([4 5 6], shape=(3,), dtype=int32)\n",
            "tf.Tensor(5, shape=(), dtype=int32)\n",
            "tf.Tensor(\n",
            "[[1 2 3]\n",
            " [4 5 6]\n",
            " [7 8 9]], shape=(3, 3), dtype=int32)\n",
            "tf.Tensor(\n",
            "[[[ 1  2]\n",
            "  [ 4  5]]\n",
            "\n",
            " [[10 11]\n",
            "  [13 14]]], shape=(2, 2, 2), dtype=int32)\n"
          ]
        }
      ]
    }
  ]
}
