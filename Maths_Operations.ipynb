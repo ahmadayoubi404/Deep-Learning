{
  "nbformat": 4,
  "nbformat_minor": 0,
  "metadata": {
    "colab": {
      "provenance": [],
      "authorship_tag": "ABX9TyMKF95eWQ4QYTW4jL/3G/2S",
      "include_colab_link": true
    },
    "kernelspec": {
      "name": "python3",
      "display_name": "Python 3"
    },
    "language_info": {
      "name": "python"
    }
  },
  "cells": [
    {
      "cell_type": "markdown",
      "metadata": {
        "id": "view-in-github",
        "colab_type": "text"
      },
      "source": [
        "<a href=\"https://colab.research.google.com/github/ahmadayoubi404/Deep-Learning/blob/main/Maths_Operations.ipynb\" target=\"_parent\"><img src=\"https://colab.research.google.com/assets/colab-badge.svg\" alt=\"Open In Colab\"/></a>"
      ]
    },
    {
      "cell_type": "code",
      "execution_count": 3,
      "metadata": {
        "id": "4MMhrvMJZVEq"
      },
      "outputs": [],
      "source": [
        "import tensorflow as tf"
      ]
    },
    {
      "cell_type": "code",
      "source": [
        "#absolute value\n",
        "print(tf.abs(tf.constant([-2.25, 3.25])))#it turns the negative into positive\n",
        "#square root\n",
        "print(tf.sqrt(tf.constant([1.0, 4.0, 9.0])))\n",
        "#addition\n",
        "print(tf.add(tf.constant([1, 2]), tf.constant([3, 4])))\n",
        "#multiplication\n",
        "print(tf.multiply(tf.constant([1, 2]), tf.constant([3, 4])))\n",
        "#substraction\n",
        "print(tf.subtract(tf.constant([1, 2]), tf.constant([3, 4])))\n",
        "#division\n",
        "print(tf.divide(tf.constant([1, 2]), tf.constant([3, 4])))\n",
        "#division by zero\n",
        "print(tf.math.divide_no_nan(tf.constant([1, 2]), tf.constant([0, 1])))\n",
        "#addition with one scalar\n",
        "print(tf.add(tf.constant([1, 2]), tf.constant(3)))\n"
      ],
      "metadata": {
        "colab": {
          "base_uri": "https://localhost:8080/"
        },
        "id": "KpwqL0vwa8W9",
        "outputId": "f6022623-7c40-4fa5-bb49-9cb657644877"
      },
      "execution_count": 13,
      "outputs": [
        {
          "output_type": "stream",
          "name": "stdout",
          "text": [
            "tf.Tensor([2.25 3.25], shape=(2,), dtype=float32)\n",
            "tf.Tensor([1. 2. 3.], shape=(3,), dtype=float32)\n",
            "tf.Tensor([4 6], shape=(2,), dtype=int32)\n",
            "tf.Tensor([3 8], shape=(2,), dtype=int32)\n",
            "tf.Tensor([-2 -2], shape=(2,), dtype=int32)\n",
            "tf.Tensor([0.33333333 0.5       ], shape=(2,), dtype=float64)\n",
            "tf.Tensor([0. 2.], shape=(2,), dtype=float64)\n",
            "tf.Tensor([4 5], shape=(2,), dtype=int32)\n",
            "tf.Tensor(\n",
            "[[19 22]\n",
            " [43 50]], shape=(2, 2), dtype=int32)\n"
          ]
        }
      ]
    },
    {
      "cell_type": "code",
      "source": [
        "print(tf.math.maximum(tf.constant([1, 2]), tf.constant([3, 4])))\n",
        "print(tf.math.minimum(tf.constant([1, 2]), tf.constant([3, 4])))\n",
        "print(tf.math.equal(tf.constant([1, 2]), tf.constant([3, 4])))\n",
        "print(tf.math.not_equal(tf.constant([1, 2]), tf.constant([3, 4])))\n",
        "print(tf.math.less(tf.constant([1, 2]), tf.constant([3, 4])))\n",
        "print(tf.math.greater(tf.constant([1, 2]), tf.constant([3, 4])))"
      ],
      "metadata": {
        "colab": {
          "base_uri": "https://localhost:8080/"
        },
        "id": "0ublWeUTfMRa",
        "outputId": "7efd8f49-4893-496f-dbe5-6861966d4a91"
      },
      "execution_count": 19,
      "outputs": [
        {
          "output_type": "stream",
          "name": "stdout",
          "text": [
            "tf.Tensor([3 4], shape=(2,), dtype=int32)\n",
            "tf.Tensor([1 2], shape=(2,), dtype=int32)\n",
            "tf.Tensor([False False], shape=(2,), dtype=bool)\n",
            "tf.Tensor([ True  True], shape=(2,), dtype=bool)\n",
            "tf.Tensor([ True  True], shape=(2,), dtype=bool)\n",
            "tf.Tensor([False False], shape=(2,), dtype=bool)\n"
          ]
        }
      ]
    },
    {
      "cell_type": "code",
      "source": [
        "print(tf.math.argmax(tf.constant([1, 2, 3, 4]))) #position of the maximum value\n",
        "print(tf.math.argmin(tf.constant([[2, 1], [3, 4]]))) #position of the minimum value\n",
        "print(tf.math.argmin(tf.constant([[2, 1], [3, 4]]), axis = 1)) #position of the minimum value"
      ],
      "metadata": {
        "colab": {
          "base_uri": "https://localhost:8080/"
        },
        "id": "oN9jtzYIf2Xg",
        "outputId": "fa494dd5-e54c-4d82-e389-e20cec5df323"
      },
      "execution_count": 29,
      "outputs": [
        {
          "output_type": "stream",
          "name": "stdout",
          "text": [
            "tf.Tensor(3, shape=(), dtype=int64)\n",
            "tf.Tensor([0 0], shape=(2,), dtype=int64)\n",
            "tf.Tensor([1 0], shape=(2,), dtype=int64)\n"
          ]
        }
      ]
    },
    {
      "cell_type": "code",
      "source": [
        "#power\n",
        "print(tf.pow(tf.constant([1, 2]), tf.constant([3, 4]))) #1**3 2**4\n",
        "print(tf.pow(tf.constant([1, 2]), 3)) #1**3 2**3"
      ],
      "metadata": {
        "colab": {
          "base_uri": "https://localhost:8080/"
        },
        "id": "PHA73TskiPne",
        "outputId": "e50aed8f-cf54-4c97-ed4c-97186fb8d847"
      },
      "execution_count": 31,
      "outputs": [
        {
          "output_type": "stream",
          "name": "stdout",
          "text": [
            "tf.Tensor([ 1 16], shape=(2,), dtype=int32)\n",
            "tf.Tensor([1 8], shape=(2,), dtype=int32)\n"
          ]
        }
      ]
    },
    {
      "cell_type": "code",
      "source": [
        "#reduce sum\n",
        "print(tf.reduce_sum(tf.constant([1, 2, 3, 4])))\n",
        "print(tf.reduce_sum(tf.constant([[1, 2],[3, 4]]), axis = None))\n",
        "print(tf.reduce_sum(tf.constant([[1, 2],[3, 4]]), axis = 0))\n",
        "print(tf.reduce_sum(tf.constant([[1, 2],[3, 4]]), axis = 1))\n",
        "#reduce min\n",
        "print(tf.reduce_min(tf.constant([[1, 2],[3, 4]]), axis = 0))\n",
        "print(tf.reduce_min(tf.constant([[1, 2],[3, 4]]), axis = 1))\n",
        "#reduce max\n",
        "print(tf.reduce_max(tf.constant([[1, 2],[3, 4]]), axis = 0))\n",
        "print(tf.reduce_max(tf.constant([[1, 2],[3, 4]]), axis = 1))\n",
        "#reduce mean\n",
        "print(tf.reduce_mean(tf.constant([[1, 2],[3, 4]], dtype = tf.float16), axis = 0))\n",
        "print(tf.reduce_mean(tf.constant([[1, 2],[3, 4]], dtype = tf.float16), axis = 1))\n",
        "#reduce standard deviation\n",
        "print(tf.math.reduce_std(tf.constant([[1, 2],[3, 4]], dtype = tf.float16), axis = 0))\n",
        "print(tf.math.reduce_std(tf.constant([[1, 2],[3, 4]], dtype = tf.float16), axis = 1))"
      ],
      "metadata": {
        "colab": {
          "base_uri": "https://localhost:8080/"
        },
        "id": "8lyjSnZei5Cu",
        "outputId": "c83ba380-0e13-43f4-b972-821c19e5acb1"
      },
      "execution_count": 41,
      "outputs": [
        {
          "output_type": "stream",
          "name": "stdout",
          "text": [
            "tf.Tensor(10, shape=(), dtype=int32)\n",
            "tf.Tensor(10, shape=(), dtype=int32)\n",
            "tf.Tensor([4 6], shape=(2,), dtype=int32)\n",
            "tf.Tensor([3 7], shape=(2,), dtype=int32)\n",
            "tf.Tensor([1 2], shape=(2,), dtype=int32)\n",
            "tf.Tensor([1 3], shape=(2,), dtype=int32)\n",
            "tf.Tensor([3 4], shape=(2,), dtype=int32)\n",
            "tf.Tensor([2 4], shape=(2,), dtype=int32)\n",
            "tf.Tensor([2. 3.], shape=(2,), dtype=float16)\n",
            "tf.Tensor([1.5 3.5], shape=(2,), dtype=float16)\n",
            "tf.Tensor([1. 1.], shape=(2,), dtype=float16)\n",
            "tf.Tensor([0.5 0.5], shape=(2,), dtype=float16)\n"
          ]
        }
      ]
    },
    {
      "cell_type": "code",
      "source": [
        "#top_k\n",
        "print(tf.math.top_k(tf.constant([1, 2, 3, 4]), k = 2))\n",
        "print(tf.math.top_k(tf.constant([[1, 2, 3, 4],[5, 6, 7, 8]]), k = 2)) #the top_k matrix and its position matrix"
      ],
      "metadata": {
        "colab": {
          "base_uri": "https://localhost:8080/"
        },
        "id": "dumsYmPrra5v",
        "outputId": "84a048f4-9626-48b0-9545-fd86ab227a7e"
      },
      "execution_count": 49,
      "outputs": [
        {
          "output_type": "stream",
          "name": "stdout",
          "text": [
            "TopKV2(values=<tf.Tensor: shape=(2,), dtype=int32, numpy=array([4, 3], dtype=int32)>, indices=<tf.Tensor: shape=(2,), dtype=int32, numpy=array([3, 2], dtype=int32)>)\n",
            "TopKV2(values=<tf.Tensor: shape=(2, 2), dtype=int32, numpy=\n",
            "array([[4, 3],\n",
            "       [8, 7]], dtype=int32)>, indices=<tf.Tensor: shape=(2, 2), dtype=int32, numpy=\n",
            "array([[3, 2],\n",
            "       [3, 2]], dtype=int32)>)\n"
          ]
        }
      ]
    },
    {
      "cell_type": "code",
      "source": [
        "#matrix multiplication\n",
        "print(tf.matmul(tf.constant([[1, 2],[3, 4]]), tf.constant([[5, 6],[7, 8]])))\n",
        "#matrix transpose\n",
        "print(tf.transpose(tf.constant([[1, 2],[3, 4]])))"
      ],
      "metadata": {
        "colab": {
          "base_uri": "https://localhost:8080/"
        },
        "id": "l0EBmY-Ms4Ne",
        "outputId": "605ca3f0-41be-4ba3-ee2f-0f15dc0ec494"
      },
      "execution_count": 56,
      "outputs": [
        {
          "output_type": "stream",
          "name": "stdout",
          "text": [
            "tf.Tensor(\n",
            "[[19 22]\n",
            " [43 50]], shape=(2, 2), dtype=int32)\n",
            "tf.Tensor(\n",
            "[[1 3]\n",
            " [2 4]], shape=(2, 2), dtype=int32)\n"
          ]
        }
      ]
    },
    {
      "cell_type": "code",
      "source": [
        "#sparse tensors\n",
        "sparse_tensor = tf.sparse.SparseTensor(indices = [[0, 0], [1, 2]], values = [1, 2], dense_shape = [3, 4]) #most elements are zeros\n",
        "print(sparse_tensor)\n",
        "\n",
        "#diagnol tensor\n",
        "print(tf.linalg.diag([1, 2, 3]))\n",
        "\n",
        "#determinant\n",
        "print(tf.linalg.det(tf.constant([[1, 2],[3, 4]],dtype = tf.float32)))\n",
        "\n",
        "#inverse\n",
        "print(tf.linalg.inv(tf.constant([[1, 2],[3, 4]],dtype = tf.float32)))\n",
        "\n",
        "#trace\n",
        "print(tf.linalg.trace(tf.constant([[1, 2],[3, 4]],dtype = tf.float32)))\n",
        "\n",
        "#svd\n",
        "print(tf.linalg.svd(tf.constant([[1, 2],[3, 4]],dtype = tf.float32)))"
      ],
      "metadata": {
        "colab": {
          "base_uri": "https://localhost:8080/"
        },
        "id": "RYfvF4Hj-MQi",
        "outputId": "46569ccc-ebba-43a4-ddeb-8216261c0df8"
      },
      "execution_count": 69,
      "outputs": [
        {
          "output_type": "stream",
          "name": "stdout",
          "text": [
            "SparseTensor(indices=tf.Tensor(\n",
            "[[0 0]\n",
            " [1 2]], shape=(2, 2), dtype=int64), values=tf.Tensor([1 2], shape=(2,), dtype=int32), dense_shape=tf.Tensor([3 4], shape=(2,), dtype=int64))\n",
            "tf.Tensor(\n",
            "[[1 0 0]\n",
            " [0 2 0]\n",
            " [0 0 3]], shape=(3, 3), dtype=int32)\n",
            "tf.Tensor(-2.0, shape=(), dtype=float32)\n",
            "tf.Tensor(\n",
            "[[-2.0000002   1.0000001 ]\n",
            " [ 1.5000001  -0.50000006]], shape=(2, 2), dtype=float32)\n",
            "tf.Tensor(5.0, shape=(), dtype=float32)\n",
            "(<tf.Tensor: shape=(2,), dtype=float32, numpy=array([5.4649854 , 0.36596614], dtype=float32)>, <tf.Tensor: shape=(2, 2), dtype=float32, numpy=\n",
            "array([[ 0.4045535, -0.9145143],\n",
            "       [ 0.9145143,  0.4045535]], dtype=float32)>, <tf.Tensor: shape=(2, 2), dtype=float32, numpy=\n",
            "array([[ 0.5760484,  0.8174156],\n",
            "       [ 0.8174156, -0.5760484]], dtype=float32)>)\n"
          ]
        }
      ]
    },
    {
      "cell_type": "code",
      "source": [
        "import numpy as np\n",
        "\n",
        "Q = np.random.randn(32, 64, 512) #bqm\n",
        "K = np.random.randn(32, 128, 512) #bkm #we use the transpose of K\n",
        "\n",
        "np.einsum('bqm,bkm->bqk', Q, K).shape\n"
      ],
      "metadata": {
        "colab": {
          "base_uri": "https://localhost:8080/"
        },
        "id": "W1JK2DCaC2G8",
        "outputId": "b8ce8a01-3da0-43c1-e432-d0a6d8c37379"
      },
      "execution_count": 72,
      "outputs": [
        {
          "output_type": "execute_result",
          "data": {
            "text/plain": [
              "(32, 64, 128)"
            ]
          },
          "metadata": {},
          "execution_count": 72
        }
      ]
    },
    {
      "cell_type": "code",
      "source": [
        "A = np.random.randn(2, 4, 4, 2) #bcij\n",
        "B = np.random.randn(2, 4, 4, 1) #bcik\n",
        "\n",
        "np.einsum('bcik,bcij->bckj', B, A).shape"
      ],
      "metadata": {
        "colab": {
          "base_uri": "https://localhost:8080/"
        },
        "id": "5dCv1BeWImSf",
        "outputId": "ca694976-c5c1-48d7-9c72-e460a27a4c19"
      },
      "execution_count": 76,
      "outputs": [
        {
          "output_type": "execute_result",
          "data": {
            "text/plain": [
              "(2, 4, 1, 2)"
            ]
          },
          "metadata": {},
          "execution_count": 76
        }
      ]
    },
    {
      "cell_type": "code",
      "source": [
        "np.matmul(np.transpose(B, (0, 1, 3, 2)), A).shape"
      ],
      "metadata": {
        "colab": {
          "base_uri": "https://localhost:8080/"
        },
        "id": "2eWbf9hLJDEY",
        "outputId": "64b5de3c-42d0-4bdc-e2dc-1b8f92ce52a6"
      },
      "execution_count": 77,
      "outputs": [
        {
          "output_type": "execute_result",
          "data": {
            "text/plain": [
              "(2, 4, 1, 2)"
            ]
          },
          "metadata": {},
          "execution_count": 77
        }
      ]
    }
  ]
}